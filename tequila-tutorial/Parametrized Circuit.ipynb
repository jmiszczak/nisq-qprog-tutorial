{
 "cells": [
  {
   "cell_type": "code",
   "execution_count": 19,
   "id": "eef60c30",
   "metadata": {},
   "outputs": [],
   "source": [
    "import tequila as tq"
   ]
  },
  {
   "cell_type": "code",
   "execution_count": 20,
   "id": "0ebd0f0b",
   "metadata": {},
   "outputs": [],
   "source": [
    "import numpy as np\n",
    "from numpy import pi"
   ]
  },
  {
   "cell_type": "code",
   "execution_count": 21,
   "id": "b14df585",
   "metadata": {},
   "outputs": [],
   "source": [
    "circ1 = tq.gates.Ry(angle=\"a\", target=0)"
   ]
  },
  {
   "cell_type": "code",
   "execution_count": 22,
   "id": "64cf74b2",
   "metadata": {},
   "outputs": [
    {
     "name": "stdout",
     "output_type": "stream",
     "text": [
      "0: ───Ry(0.318309886183791*pi*f((a,))_0)───\n"
     ]
    },
    {
     "data": {
      "text/plain": [
       "'0: ───Ry(0.318309886183791*pi*f((a,))_0)───'"
      ]
     },
     "execution_count": 22,
     "metadata": {},
     "output_type": "execute_result"
    }
   ],
   "source": [
    "tq.draw(circ)"
   ]
  },
  {
   "cell_type": "code",
   "execution_count": 23,
   "id": "307af514",
   "metadata": {},
   "outputs": [],
   "source": [
    "variables = {\"a\" : pi**2}"
   ]
  },
  {
   "cell_type": "code",
   "execution_count": 24,
   "id": "21e55abe",
   "metadata": {},
   "outputs": [],
   "source": [
    "wfn = tq.simulate(circ1, variables=variables)"
   ]
  },
  {
   "cell_type": "code",
   "execution_count": 25,
   "id": "81ae81de",
   "metadata": {},
   "outputs": [
    {
     "data": {
      "text/plain": [
       "+0.2206|0> -0.9754|1> "
      ]
     },
     "execution_count": 25,
     "metadata": {},
     "output_type": "execute_result"
    }
   ],
   "source": [
    "wfn"
   ]
  },
  {
   "cell_type": "code",
   "execution_count": 26,
   "id": "dcf241f1",
   "metadata": {},
   "outputs": [],
   "source": [
    "a = tq.Variable(\"a\")"
   ]
  },
  {
   "cell_type": "code",
   "execution_count": 27,
   "id": "e72039f3",
   "metadata": {},
   "outputs": [],
   "source": [
    "circ2 = tq.gates.Ry(angle=(a*pi)**2, target=0)"
   ]
  },
  {
   "cell_type": "code",
   "execution_count": null,
   "id": "d0bbe0c7",
   "metadata": {},
   "outputs": [],
   "source": []
  }
 ],
 "metadata": {
  "kernelspec": {
   "display_name": "Python 3",
   "language": "python",
   "name": "python3"
  },
  "language_info": {
   "codemirror_mode": {
    "name": "ipython",
    "version": 3
   },
   "file_extension": ".py",
   "mimetype": "text/x-python",
   "name": "python",
   "nbconvert_exporter": "python",
   "pygments_lexer": "ipython3",
   "version": "3.9.5"
  }
 },
 "nbformat": 4,
 "nbformat_minor": 5
}
