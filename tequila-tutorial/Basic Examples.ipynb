{
 "cells": [
  {
   "cell_type": "code",
   "execution_count": 59,
   "id": "c003ef5c",
   "metadata": {},
   "outputs": [],
   "source": [
    "import tequila as tq"
   ]
  },
  {
   "cell_type": "code",
   "execution_count": 60,
   "id": "0bacd01b",
   "metadata": {},
   "outputs": [],
   "source": [
    "import numpy as np"
   ]
  },
  {
   "cell_type": "code",
   "execution_count": 61,
   "id": "4d5dd8fc",
   "metadata": {},
   "outputs": [
    {
     "name": "stdout",
     "output_type": "stream",
     "text": [
      "backend         | wfn        | sampling   | noise      | installed \n",
      "--------------------------------------------------------------------\n",
      "qulacs_gpu      | False      | False      | False      | False     \n",
      "qulacs          | True       | True       | True       | True      \n",
      "qibo            | False      | False      | False      | False     \n",
      "qiskit          | False      | False      | False      | False     \n",
      "cirq            | True       | True       | True       | True      \n",
      "pyquil          | False      | False      | False      | False     \n",
      "symbolic        | True       | False      | False      | True      \n"
     ]
    }
   ],
   "source": [
    "tq.show_available_simulators()"
   ]
  },
  {
   "cell_type": "code",
   "execution_count": 62,
   "id": "5181dfcb",
   "metadata": {},
   "outputs": [],
   "source": [
    "circ = tq.gates.H(target=2)\n",
    "circ += tq.gates.H(target=1)"
   ]
  },
  {
   "cell_type": "code",
   "execution_count": 63,
   "id": "ea546989",
   "metadata": {},
   "outputs": [
    {
     "name": "stdout",
     "output_type": "stream",
     "text": [
      "0: ───H───\n",
      "\n",
      "1: ───H───\n"
     ]
    }
   ],
   "source": [
    "tq.draw(circ);"
   ]
  },
  {
   "cell_type": "code",
   "execution_count": 64,
   "id": "3967affa",
   "metadata": {},
   "outputs": [],
   "source": [
    "circ += tq.gates.X(target=1, control=0)"
   ]
  },
  {
   "cell_type": "code",
   "execution_count": 65,
   "id": "613e72d1",
   "metadata": {},
   "outputs": [
    {
     "name": "stdout",
     "output_type": "stream",
     "text": [
      "0: ───────@───\n",
      "          │\n",
      "1: ───H───X───\n",
      "\n",
      "2: ───H───────\n"
     ]
    }
   ],
   "source": [
    "tq.draw(circ);"
   ]
  },
  {
   "cell_type": "code",
   "execution_count": 66,
   "id": "2f97206e",
   "metadata": {},
   "outputs": [],
   "source": [
    "H = tq.QubitHamiltonian.from_string(\"-1.0*X(0)X(1) + 0.5*Z(0)\")"
   ]
  },
  {
   "cell_type": "code",
   "execution_count": 67,
   "id": "3ef0c8b3",
   "metadata": {},
   "outputs": [],
   "source": [
    "E = tq.ExpectationValue(H=H, U=circ)"
   ]
  },
  {
   "cell_type": "code",
   "execution_count": 70,
   "id": "83a74fb5",
   "metadata": {},
   "outputs": [],
   "source": [
    "m = tq.simulate(circ)"
   ]
  }
 ],
 "metadata": {
  "kernelspec": {
   "display_name": "Python 3",
   "language": "python",
   "name": "python3"
  },
  "language_info": {
   "codemirror_mode": {
    "name": "ipython",
    "version": 3
   },
   "file_extension": ".py",
   "mimetype": "text/x-python",
   "name": "python",
   "nbconvert_exporter": "python",
   "pygments_lexer": "ipython3",
   "version": "3.9.5"
  }
 },
 "nbformat": 4,
 "nbformat_minor": 5
}
